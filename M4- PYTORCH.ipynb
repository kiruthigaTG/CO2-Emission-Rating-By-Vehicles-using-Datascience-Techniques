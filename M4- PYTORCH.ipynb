{
 "cells": [
  {
   "cell_type": "code",
   "execution_count": 1,
   "id": "f45ba246",
   "metadata": {},
   "outputs": [],
   "source": [
    "import pandas as pd\n",
    "import numpy as np\n",
    "import matplotlib.pyplot as plt\n",
    "import seaborn as sns\n",
    "\n",
    "import torch\n",
    "import torch.nn as nn\n",
    "import torch.optim as optim\n",
    "from torch.utils.data import Dataset, DataLoader\n",
    "\n",
    "import warnings\n",
    "warnings.filterwarnings('ignore')"
   ]
  },
  {
   "cell_type": "code",
   "execution_count": 2,
   "id": "41115fcc",
   "metadata": {},
   "outputs": [
    {
     "data": {
      "text/html": [
       "<div>\n",
       "<style scoped>\n",
       "    .dataframe tbody tr th:only-of-type {\n",
       "        vertical-align: middle;\n",
       "    }\n",
       "\n",
       "    .dataframe tbody tr th {\n",
       "        vertical-align: top;\n",
       "    }\n",
       "\n",
       "    .dataframe thead th {\n",
       "        text-align: right;\n",
       "    }\n",
       "</style>\n",
       "<table border=\"1\" class=\"dataframe\">\n",
       "  <thead>\n",
       "    <tr style=\"text-align: right;\">\n",
       "      <th></th>\n",
       "      <th>Engine_Size</th>\n",
       "      <th>Cylinders</th>\n",
       "      <th>Fuel_Type</th>\n",
       "      <th>Fuel_Consumption_City</th>\n",
       "      <th>Fuel_Consumption_Higway</th>\n",
       "      <th>Fuel_Consumption_km</th>\n",
       "      <th>Fuel_Consumption_miles</th>\n",
       "      <th>CO2_Emission_KM</th>\n",
       "      <th>CO2_Rating</th>\n",
       "    </tr>\n",
       "  </thead>\n",
       "  <tbody>\n",
       "    <tr>\n",
       "      <th>0</th>\n",
       "      <td>2.4</td>\n",
       "      <td>4</td>\n",
       "      <td>Z</td>\n",
       "      <td>9.9</td>\n",
       "      <td>7.0</td>\n",
       "      <td>8.6</td>\n",
       "      <td>33</td>\n",
       "      <td>200</td>\n",
       "      <td>6</td>\n",
       "    </tr>\n",
       "    <tr>\n",
       "      <th>1</th>\n",
       "      <td>3.5</td>\n",
       "      <td>6</td>\n",
       "      <td>Z</td>\n",
       "      <td>12.6</td>\n",
       "      <td>9.4</td>\n",
       "      <td>11.2</td>\n",
       "      <td>25</td>\n",
       "      <td>263</td>\n",
       "      <td>4</td>\n",
       "    </tr>\n",
       "    <tr>\n",
       "      <th>2</th>\n",
       "      <td>2.0</td>\n",
       "      <td>4</td>\n",
       "      <td>Z</td>\n",
       "      <td>11.0</td>\n",
       "      <td>8.6</td>\n",
       "      <td>9.9</td>\n",
       "      <td>29</td>\n",
       "      <td>232</td>\n",
       "      <td>5</td>\n",
       "    </tr>\n",
       "    <tr>\n",
       "      <th>3</th>\n",
       "      <td>2.0</td>\n",
       "      <td>4</td>\n",
       "      <td>Z</td>\n",
       "      <td>11.3</td>\n",
       "      <td>9.1</td>\n",
       "      <td>10.3</td>\n",
       "      <td>27</td>\n",
       "      <td>242</td>\n",
       "      <td>5</td>\n",
       "    </tr>\n",
       "    <tr>\n",
       "      <th>4</th>\n",
       "      <td>2.0</td>\n",
       "      <td>4</td>\n",
       "      <td>Z</td>\n",
       "      <td>11.2</td>\n",
       "      <td>8.0</td>\n",
       "      <td>9.8</td>\n",
       "      <td>29</td>\n",
       "      <td>230</td>\n",
       "      <td>5</td>\n",
       "    </tr>\n",
       "  </tbody>\n",
       "</table>\n",
       "</div>"
      ],
      "text/plain": [
       "   Engine_Size  Cylinders Fuel_Type  Fuel_Consumption_City  \\\n",
       "0          2.4          4         Z                    9.9   \n",
       "1          3.5          6         Z                   12.6   \n",
       "2          2.0          4         Z                   11.0   \n",
       "3          2.0          4         Z                   11.3   \n",
       "4          2.0          4         Z                   11.2   \n",
       "\n",
       "   Fuel_Consumption_Higway  Fuel_Consumption_km  Fuel_Consumption_miles  \\\n",
       "0                      7.0                  8.6                      33   \n",
       "1                      9.4                 11.2                      25   \n",
       "2                      8.6                  9.9                      29   \n",
       "3                      9.1                 10.3                      27   \n",
       "4                      8.0                  9.8                      29   \n",
       "\n",
       "   CO2_Emission_KM  CO2_Rating  \n",
       "0              200           6  \n",
       "1              263           4  \n",
       "2              232           5  \n",
       "3              242           5  \n",
       "4              230           5  "
      ]
     },
     "execution_count": 2,
     "metadata": {},
     "output_type": "execute_result"
    }
   ],
   "source": [
    "df = pd.read_csv('CO2.csv')\n",
    "\n",
    "del df['Model Year']\n",
    "del df['Make']\n",
    "del df['Model']\n",
    "del df['Vehicle Class']\n",
    "del df['Smog Rating']\n",
    "del df['Transmission']\n",
    "\n",
    "df = df.rename({'Engine Size(L)': 'Engine_Size','Fuel Type':'Fuel_Type','Fuel Consumption (City (L/100 km)':'Fuel_Consumption_City',\n",
    "                'Fuel Consumption(Hwy (L/100 km))':'Fuel_Consumption_Higway','Fuel Consumption(Comb (mpg))':'Fuel_Consumption_miles',\n",
    "                'CO2 Emissions(g/km)':'CO2_Emission_KM','CO2 Rating':'CO2_Rating','Fuel Consumption(Comb (L/100 km))':'Fuel_Consumption_km'}, axis=1) \n",
    "\n",
    "df.head()"
   ]
  },
  {
   "cell_type": "code",
   "execution_count": 3,
   "id": "fa743463",
   "metadata": {},
   "outputs": [],
   "source": [
    "df.drop(df.index[df['CO2_Rating'] == 10], inplace=True)\n",
    "df.drop(df.index[df['CO2_Rating'] == 1], inplace=True)\n",
    "df.drop(df.index[df['CO2_Rating'] == 8], inplace=True)\n",
    "df.drop(df.index[df['CO2_Rating'] == 9], inplace=True)\n",
    "df.drop(df.index[df['CO2_Rating'] == 2], inplace=True)\n",
    "df.drop(df.index[df['CO2_Rating'] == 7], inplace=True)"
   ]
  },
  {
   "cell_type": "code",
   "execution_count": 4,
   "id": "0f3b26dc",
   "metadata": {},
   "outputs": [],
   "source": [
    "df['CO2_Rating'] = df['CO2_Rating'].map({3:1,4:2,5:3,6:4})"
   ]
  },
  {
   "cell_type": "code",
   "execution_count": 5,
   "id": "9ffc2295",
   "metadata": {},
   "outputs": [],
   "source": [
    "df=df.dropna()"
   ]
  },
  {
   "cell_type": "code",
   "execution_count": 6,
   "id": "dd41d833",
   "metadata": {},
   "outputs": [
    {
     "data": {
      "text/plain": [
       "CO2_Rating\n",
       "3    266\n",
       "2    228\n",
       "1    189\n",
       "4    113\n",
       "Name: count, dtype: int64"
      ]
     },
     "execution_count": 6,
     "metadata": {},
     "output_type": "execute_result"
    }
   ],
   "source": [
    "df['CO2_Rating'].value_counts()"
   ]
  },
  {
   "cell_type": "code",
   "execution_count": 7,
   "id": "87d6fa8f",
   "metadata": {},
   "outputs": [
    {
     "data": {
      "text/plain": [
       "Index(['Engine_Size', 'Cylinders', 'Fuel_Type', 'Fuel_Consumption_City',\n",
       "       'Fuel_Consumption_Higway', 'Fuel_Consumption_km',\n",
       "       'Fuel_Consumption_miles', 'CO2_Emission_KM', 'CO2_Rating'],\n",
       "      dtype='object')"
      ]
     },
     "execution_count": 7,
     "metadata": {},
     "output_type": "execute_result"
    }
   ],
   "source": [
    "df.columns"
   ]
  },
  {
   "cell_type": "code",
   "execution_count": 8,
   "id": "4148f623",
   "metadata": {},
   "outputs": [],
   "source": [
    "from sklearn.preprocessing import LabelEncoder\n",
    "le = LabelEncoder()\n",
    "\n",
    "var = ['Fuel_Type']\n",
    "  \n",
    "for i in var:\n",
    "    df[i] = le.fit_transform(df[i]).astype(int)"
   ]
  },
  {
   "cell_type": "code",
   "execution_count": 9,
   "id": "f6b7f3d9",
   "metadata": {},
   "outputs": [
    {
     "data": {
      "text/html": [
       "<div>\n",
       "<style scoped>\n",
       "    .dataframe tbody tr th:only-of-type {\n",
       "        vertical-align: middle;\n",
       "    }\n",
       "\n",
       "    .dataframe tbody tr th {\n",
       "        vertical-align: top;\n",
       "    }\n",
       "\n",
       "    .dataframe thead th {\n",
       "        text-align: right;\n",
       "    }\n",
       "</style>\n",
       "<table border=\"1\" class=\"dataframe\">\n",
       "  <thead>\n",
       "    <tr style=\"text-align: right;\">\n",
       "      <th></th>\n",
       "      <th>Engine_Size</th>\n",
       "      <th>Cylinders</th>\n",
       "      <th>Fuel_Type</th>\n",
       "      <th>Fuel_Consumption_City</th>\n",
       "      <th>Fuel_Consumption_Higway</th>\n",
       "      <th>Fuel_Consumption_km</th>\n",
       "      <th>Fuel_Consumption_miles</th>\n",
       "      <th>CO2_Emission_KM</th>\n",
       "      <th>CO2_Rating</th>\n",
       "    </tr>\n",
       "  </thead>\n",
       "  <tbody>\n",
       "    <tr>\n",
       "      <th>0</th>\n",
       "      <td>2.4</td>\n",
       "      <td>4</td>\n",
       "      <td>3</td>\n",
       "      <td>9.9</td>\n",
       "      <td>7.0</td>\n",
       "      <td>8.6</td>\n",
       "      <td>33</td>\n",
       "      <td>200</td>\n",
       "      <td>4</td>\n",
       "    </tr>\n",
       "    <tr>\n",
       "      <th>1</th>\n",
       "      <td>3.5</td>\n",
       "      <td>6</td>\n",
       "      <td>3</td>\n",
       "      <td>12.6</td>\n",
       "      <td>9.4</td>\n",
       "      <td>11.2</td>\n",
       "      <td>25</td>\n",
       "      <td>263</td>\n",
       "      <td>2</td>\n",
       "    </tr>\n",
       "    <tr>\n",
       "      <th>2</th>\n",
       "      <td>2.0</td>\n",
       "      <td>4</td>\n",
       "      <td>3</td>\n",
       "      <td>11.0</td>\n",
       "      <td>8.6</td>\n",
       "      <td>9.9</td>\n",
       "      <td>29</td>\n",
       "      <td>232</td>\n",
       "      <td>3</td>\n",
       "    </tr>\n",
       "    <tr>\n",
       "      <th>3</th>\n",
       "      <td>2.0</td>\n",
       "      <td>4</td>\n",
       "      <td>3</td>\n",
       "      <td>11.3</td>\n",
       "      <td>9.1</td>\n",
       "      <td>10.3</td>\n",
       "      <td>27</td>\n",
       "      <td>242</td>\n",
       "      <td>3</td>\n",
       "    </tr>\n",
       "    <tr>\n",
       "      <th>4</th>\n",
       "      <td>2.0</td>\n",
       "      <td>4</td>\n",
       "      <td>3</td>\n",
       "      <td>11.2</td>\n",
       "      <td>8.0</td>\n",
       "      <td>9.8</td>\n",
       "      <td>29</td>\n",
       "      <td>230</td>\n",
       "      <td>3</td>\n",
       "    </tr>\n",
       "  </tbody>\n",
       "</table>\n",
       "</div>"
      ],
      "text/plain": [
       "   Engine_Size  Cylinders  Fuel_Type  Fuel_Consumption_City  \\\n",
       "0          2.4          4          3                    9.9   \n",
       "1          3.5          6          3                   12.6   \n",
       "2          2.0          4          3                   11.0   \n",
       "3          2.0          4          3                   11.3   \n",
       "4          2.0          4          3                   11.2   \n",
       "\n",
       "   Fuel_Consumption_Higway  Fuel_Consumption_km  Fuel_Consumption_miles  \\\n",
       "0                      7.0                  8.6                      33   \n",
       "1                      9.4                 11.2                      25   \n",
       "2                      8.6                  9.9                      29   \n",
       "3                      9.1                 10.3                      27   \n",
       "4                      8.0                  9.8                      29   \n",
       "\n",
       "   CO2_Emission_KM  CO2_Rating  \n",
       "0              200           4  \n",
       "1              263           2  \n",
       "2              232           3  \n",
       "3              242           3  \n",
       "4              230           3  "
      ]
     },
     "execution_count": 9,
     "metadata": {},
     "output_type": "execute_result"
    }
   ],
   "source": [
    "df.head()"
   ]
  },
  {
   "cell_type": "code",
   "execution_count": 10,
   "id": "45183d9d",
   "metadata": {},
   "outputs": [],
   "source": [
    "x1 = df.drop(labels='CO2_Rating', axis=1).values\n",
    "y1 = df.loc[:,'CO2_Rating'].values"
   ]
  },
  {
   "cell_type": "code",
   "execution_count": 11,
   "id": "979ba207",
   "metadata": {},
   "outputs": [],
   "source": [
    "# Data Preprocessing\n",
    "from sklearn.preprocessing import StandardScaler\n",
    "\n",
    "scaler = StandardScaler()\n",
    "features = scaler.fit_transform(x1)"
   ]
  },
  {
   "cell_type": "code",
   "execution_count": 12,
   "id": "ddd44af3",
   "metadata": {},
   "outputs": [
    {
     "name": "stdout",
     "output_type": "stream",
     "text": [
      "OUR DATASET COUNT         :  Counter({3: 266, 2: 228, 1: 189, 4: 113})\n",
      "OVER SAMPLING DATA COUNT  :  Counter({4: 266, 2: 266, 3: 266, 1: 266})\n"
     ]
    }
   ],
   "source": [
    "import imblearn\n",
    "from imblearn.over_sampling import RandomOverSampler\n",
    "from collections import Counter\n",
    "\n",
    "ros =RandomOverSampler(random_state=42)\n",
    "x,y=ros.fit_resample(x1,y1)\n",
    "print(\"OUR DATASET COUNT         : \", Counter(y1))\n",
    "print(\"OVER SAMPLING DATA COUNT  : \", Counter(y))"
   ]
  },
  {
   "cell_type": "code",
   "execution_count": 13,
   "id": "02ca2ebb",
   "metadata": {},
   "outputs": [
    {
     "name": "stdout",
     "output_type": "stream",
     "text": [
      "NUMBER OF TRAIN DATASET    :  851\n",
      "NUMBER OF TEST DATASET      :  213\n",
      "TOTAL NUMBER OF DATASET    :  1064\n"
     ]
    }
   ],
   "source": [
    "from sklearn.model_selection import train_test_split\n",
    "x_train, x_test, y_train, y_test = train_test_split(x, y, test_size=0.20, random_state=42, stratify=y)\n",
    "print(\"NUMBER OF TRAIN DATASET    : \", len(x_train))\n",
    "print(\"NUMBER OF TEST DATASET      : \", len(x_test))\n",
    "print(\"TOTAL NUMBER OF DATASET    : \", len(x_train)+len(x_test))"
   ]
  },
  {
   "cell_type": "code",
   "execution_count": 14,
   "id": "08e2bf87",
   "metadata": {},
   "outputs": [
    {
     "name": "stdout",
     "output_type": "stream",
     "text": [
      "NUMBER OF TRAIN DATASET    :  851\n",
      "NUMBER OF TEST DATASET      :  213\n",
      "TOTAL NUMBER OF DATASET    :  1064\n"
     ]
    }
   ],
   "source": [
    "print(\"NUMBER OF TRAIN DATASET    : \", len(y_train))\n",
    "print(\"NUMBER OF TEST DATASET      : \", len(y_test))\n",
    "print(\"TOTAL NUMBER OF DATASET    : \", len(y_train)+len(y_test))"
   ]
  },
  {
   "cell_type": "code",
   "execution_count": 15,
   "id": "77b0091a",
   "metadata": {},
   "outputs": [],
   "source": [
    "# Convert features and labels to torch tensors\n",
    "features = torch.tensor(x, dtype=torch.float32)\n",
    "labels = torch.tensor(y, dtype=torch.long)\n"
   ]
  },
  {
   "cell_type": "code",
   "execution_count": 16,
   "id": "baf31e11",
   "metadata": {},
   "outputs": [],
   "source": [
    "# Step 2: Split the dataset into training and testing sets\n",
    "train_features, test_features, train_labels, test_labels = train_test_split(\n",
    "    features, labels, test_size=0.2, random_state=42\n",
    ")\n"
   ]
  },
  {
   "cell_type": "code",
   "execution_count": 17,
   "id": "b1b6cdc9",
   "metadata": {},
   "outputs": [],
   "source": [
    "# Step 3: Create DataLoader for batch processing\n",
    "batch_size = 32\n",
    "train_dataset = torch.utils.data.TensorDataset(train_features, train_labels)\n",
    "test_dataset = torch.utils.data.TensorDataset(test_features, test_labels)\n",
    "train_loader = DataLoader(train_dataset, batch_size=batch_size, shuffle=True)\n",
    "test_loader = DataLoader(test_dataset, batch_size=batch_size, shuffle=False)\n"
   ]
  },
  {
   "cell_type": "code",
   "execution_count": 18,
   "id": "675f01df",
   "metadata": {},
   "outputs": [],
   "source": [
    "\n",
    "# Step 4: Define the neural network model\n",
    "class MyModel(nn.Module):\n",
    "    def __init__(self, input_size, hidden_size, num_classes):\n",
    "        super(MyModel, self).__init__()\n",
    "        self.fc1 = nn.Linear(input_size, hidden_size)\n",
    "        self.relu = nn.ReLU()\n",
    "        self.fc2 = nn.Linear(hidden_size, num_classes)\n",
    "\n",
    "    def forward(self, x):\n",
    "        out = self.fc1(x)\n",
    "        out = self.relu(out)\n",
    "        out = self.fc2(out)\n",
    "        return out"
   ]
  },
  {
   "cell_type": "code",
   "execution_count": 21,
   "id": "97888740",
   "metadata": {},
   "outputs": [],
   "source": [
    "# Step 5: Create the model and set hyperparameters\n",
    "input_size = 8\n",
    "hidden_size = 128\n",
    "num_classes = 5\n",
    "learning_rate = 0.001\n",
    "num_epochs = 20\n",
    "\n",
    "device = torch.device('cuda' if torch.cuda.is_available() else 'cpu')\n",
    "\n",
    "model = MyModel(input_size, hidden_size, num_classes).to(device)\n",
    "criterion = nn.CrossEntropyLoss()\n",
    "optimizer = optim.Adam(model.parameters(), lr=learning_rate)\n",
    "\n",
    "# Initialize lists to store loss and accuracy for each epoch\n",
    "epoch_losses = []\n",
    "epoch_accuracies = []"
   ]
  },
  {
   "cell_type": "code",
   "execution_count": 22,
   "id": "ae52c924",
   "metadata": {},
   "outputs": [
    {
     "name": "stdout",
     "output_type": "stream",
     "text": [
      "Epoch [1/20], Accuracy: 53.05%, Loss: 7.8214\n",
      "Epoch [2/20], Accuracy: 48.83%, Loss: 1.5057\n",
      "Epoch [3/20], Accuracy: 46.48%, Loss: 0.9768\n",
      "Epoch [4/20], Accuracy: 52.11%, Loss: 0.9534\n",
      "Epoch [5/20], Accuracy: 69.95%, Loss: 0.8017\n",
      "Epoch [6/20], Accuracy: 68.54%, Loss: 0.7355\n",
      "Epoch [7/20], Accuracy: 86.85%, Loss: 0.7274\n",
      "Epoch [8/20], Accuracy: 65.26%, Loss: 0.6661\n",
      "Epoch [9/20], Accuracy: 84.04%, Loss: 0.6476\n",
      "Epoch [10/20], Accuracy: 86.38%, Loss: 0.6155\n",
      "Epoch [11/20], Accuracy: 92.49%, Loss: 0.5717\n",
      "Epoch [12/20], Accuracy: 91.55%, Loss: 0.5435\n",
      "Epoch [13/20], Accuracy: 65.73%, Loss: 0.5638\n",
      "Epoch [14/20], Accuracy: 92.02%, Loss: 0.5317\n",
      "Epoch [15/20], Accuracy: 77.46%, Loss: 0.5483\n",
      "Epoch [16/20], Accuracy: 77.93%, Loss: 0.5840\n",
      "Epoch [17/20], Accuracy: 80.28%, Loss: 0.4676\n",
      "Epoch [18/20], Accuracy: 91.08%, Loss: 0.4468\n",
      "Epoch [19/20], Accuracy: 83.10%, Loss: 0.4605\n",
      "Epoch [20/20], Accuracy: 84.98%, Loss: 0.4803\n",
      "Training finished.\n"
     ]
    }
   ],
   "source": [
    "from sklearn.metrics import accuracy_score\n",
    "\n",
    "# Step 6: Training the model\n",
    "for epoch in range(num_epochs):\n",
    "    model.train()\n",
    "    running_loss = 0.0\n",
    "    num_batches = 0\n",
    "    \n",
    "    for i, (inputs, labels) in enumerate(train_loader):\n",
    "        inputs = inputs.to(device)\n",
    "        labels = labels.to(device)\n",
    "\n",
    "        optimizer.zero_grad()\n",
    "        outputs = model(inputs)\n",
    "        loss = criterion(outputs, labels)\n",
    "        loss.backward()\n",
    "        optimizer.step()\n",
    "\n",
    "        running_loss += loss.item()\n",
    "        num_batches += 1\n",
    "\n",
    "    average_loss = running_loss / num_batches\n",
    "    \n",
    "    # Calculate accuracy at the end of each epoch\n",
    "    model.eval()  # Switch to evaluation mode\n",
    "    with torch.no_grad():\n",
    "        test_predictions = []\n",
    "        for inputs, _ in test_loader:\n",
    "            inputs = inputs.to(device)\n",
    "            outputs = model(inputs)\n",
    "            _, predicted = torch.max(outputs.data, 1)\n",
    "            test_predictions.extend(predicted.cpu().numpy())\n",
    "\n",
    "        # Calculate accuracy\n",
    "        accuracy = accuracy_score(test_labels, test_predictions)\n",
    "        epoch_accuracies.append(accuracy)\n",
    "        epoch_losses.append(average_loss)\n",
    "        print(f'Epoch [{epoch + 1}/{num_epochs}], Accuracy: {accuracy * 100:.2f}%, Loss: {average_loss:.4f}')\n",
    "\n",
    "    model.train()  # Switch back to training mode\n",
    "\n",
    "print('Training finished.')"
   ]
  },
  {
   "cell_type": "code",
   "execution_count": null,
   "id": "4f530f63",
   "metadata": {},
   "outputs": [],
   "source": []
  },
  {
   "cell_type": "code",
   "execution_count": null,
   "id": "010a19b2",
   "metadata": {},
   "outputs": [],
   "source": []
  }
 ],
 "metadata": {
  "kernelspec": {
   "display_name": "Python 3 (ipykernel)",
   "language": "python",
   "name": "python3"
  },
  "language_info": {
   "codemirror_mode": {
    "name": "ipython",
    "version": 3
   },
   "file_extension": ".py",
   "mimetype": "text/x-python",
   "name": "python",
   "nbconvert_exporter": "python",
   "pygments_lexer": "ipython3",
   "version": "3.11.7"
  }
 },
 "nbformat": 4,
 "nbformat_minor": 5
}
