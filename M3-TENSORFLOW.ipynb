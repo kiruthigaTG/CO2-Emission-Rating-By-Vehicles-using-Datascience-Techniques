{
 "cells": [
  {
   "cell_type": "markdown",
   "id": "f23cd813",
   "metadata": {},
   "source": [
    "# ARTIFICIAL NEURAL NETWORK"
   ]
  },
  {
   "cell_type": "code",
   "execution_count": 1,
   "id": "c7ac72fa",
   "metadata": {},
   "outputs": [],
   "source": [
    "import pandas as pd\n",
    "import numpy as np\n",
    "import matplotlib.pyplot as plt\n",
    "import seaborn as sns\n",
    "\n",
    "import warnings\n",
    "warnings.filterwarnings('ignore')"
   ]
  },
  {
   "cell_type": "code",
   "execution_count": 2,
   "id": "efecb829",
   "metadata": {},
   "outputs": [
    {
     "data": {
      "text/html": [
       "<div>\n",
       "<style scoped>\n",
       "    .dataframe tbody tr th:only-of-type {\n",
       "        vertical-align: middle;\n",
       "    }\n",
       "\n",
       "    .dataframe tbody tr th {\n",
       "        vertical-align: top;\n",
       "    }\n",
       "\n",
       "    .dataframe thead th {\n",
       "        text-align: right;\n",
       "    }\n",
       "</style>\n",
       "<table border=\"1\" class=\"dataframe\">\n",
       "  <thead>\n",
       "    <tr style=\"text-align: right;\">\n",
       "      <th></th>\n",
       "      <th>Engine_Size</th>\n",
       "      <th>Cylinders</th>\n",
       "      <th>Fuel_Type</th>\n",
       "      <th>Fuel_Consumption_City</th>\n",
       "      <th>Fuel_Consumption_Higway</th>\n",
       "      <th>Fuel_Consumption_km</th>\n",
       "      <th>Fuel_Consumption_miles</th>\n",
       "      <th>CO2_Emission_KM</th>\n",
       "      <th>CO2_Rating</th>\n",
       "    </tr>\n",
       "  </thead>\n",
       "  <tbody>\n",
       "    <tr>\n",
       "      <th>0</th>\n",
       "      <td>2.4</td>\n",
       "      <td>4</td>\n",
       "      <td>Z</td>\n",
       "      <td>9.9</td>\n",
       "      <td>7.0</td>\n",
       "      <td>8.6</td>\n",
       "      <td>33</td>\n",
       "      <td>200</td>\n",
       "      <td>6</td>\n",
       "    </tr>\n",
       "    <tr>\n",
       "      <th>1</th>\n",
       "      <td>3.5</td>\n",
       "      <td>6</td>\n",
       "      <td>Z</td>\n",
       "      <td>12.6</td>\n",
       "      <td>9.4</td>\n",
       "      <td>11.2</td>\n",
       "      <td>25</td>\n",
       "      <td>263</td>\n",
       "      <td>4</td>\n",
       "    </tr>\n",
       "    <tr>\n",
       "      <th>2</th>\n",
       "      <td>2.0</td>\n",
       "      <td>4</td>\n",
       "      <td>Z</td>\n",
       "      <td>11.0</td>\n",
       "      <td>8.6</td>\n",
       "      <td>9.9</td>\n",
       "      <td>29</td>\n",
       "      <td>232</td>\n",
       "      <td>5</td>\n",
       "    </tr>\n",
       "    <tr>\n",
       "      <th>3</th>\n",
       "      <td>2.0</td>\n",
       "      <td>4</td>\n",
       "      <td>Z</td>\n",
       "      <td>11.3</td>\n",
       "      <td>9.1</td>\n",
       "      <td>10.3</td>\n",
       "      <td>27</td>\n",
       "      <td>242</td>\n",
       "      <td>5</td>\n",
       "    </tr>\n",
       "    <tr>\n",
       "      <th>4</th>\n",
       "      <td>2.0</td>\n",
       "      <td>4</td>\n",
       "      <td>Z</td>\n",
       "      <td>11.2</td>\n",
       "      <td>8.0</td>\n",
       "      <td>9.8</td>\n",
       "      <td>29</td>\n",
       "      <td>230</td>\n",
       "      <td>5</td>\n",
       "    </tr>\n",
       "  </tbody>\n",
       "</table>\n",
       "</div>"
      ],
      "text/plain": [
       "   Engine_Size  Cylinders Fuel_Type  Fuel_Consumption_City  \\\n",
       "0          2.4          4         Z                    9.9   \n",
       "1          3.5          6         Z                   12.6   \n",
       "2          2.0          4         Z                   11.0   \n",
       "3          2.0          4         Z                   11.3   \n",
       "4          2.0          4         Z                   11.2   \n",
       "\n",
       "   Fuel_Consumption_Higway  Fuel_Consumption_km  Fuel_Consumption_miles  \\\n",
       "0                      7.0                  8.6                      33   \n",
       "1                      9.4                 11.2                      25   \n",
       "2                      8.6                  9.9                      29   \n",
       "3                      9.1                 10.3                      27   \n",
       "4                      8.0                  9.8                      29   \n",
       "\n",
       "   CO2_Emission_KM  CO2_Rating  \n",
       "0              200           6  \n",
       "1              263           4  \n",
       "2              232           5  \n",
       "3              242           5  \n",
       "4              230           5  "
      ]
     },
     "execution_count": 2,
     "metadata": {},
     "output_type": "execute_result"
    }
   ],
   "source": [
    "df = pd.read_csv('CO2.csv')\n",
    "\n",
    "del df['Model Year']\n",
    "del df['Make']\n",
    "del df['Model']\n",
    "del df['Vehicle Class']\n",
    "del df['Smog Rating']\n",
    "del df['Transmission']\n",
    "\n",
    "df = df.rename({'Engine Size(L)': 'Engine_Size','Fuel Type':'Fuel_Type','Fuel Consumption (City (L/100 km)':'Fuel_Consumption_City',\n",
    "                'Fuel Consumption(Hwy (L/100 km))':'Fuel_Consumption_Higway','Fuel Consumption(Comb (mpg))':'Fuel_Consumption_miles',\n",
    "                'CO2 Emissions(g/km)':'CO2_Emission_KM','CO2 Rating':'CO2_Rating','Fuel Consumption(Comb (L/100 km))':'Fuel_Consumption_km'}, axis=1) \n",
    "\n",
    "df.head()"
   ]
  },
  {
   "cell_type": "code",
   "execution_count": 3,
   "id": "91f10b45",
   "metadata": {},
   "outputs": [],
   "source": [
    "df.drop(df.index[df['CO2_Rating'] == 10], inplace=True)\n",
    "df.drop(df.index[df['CO2_Rating'] == 1], inplace=True)\n",
    "df.drop(df.index[df['CO2_Rating'] == 8], inplace=True)\n",
    "df.drop(df.index[df['CO2_Rating'] == 9], inplace=True)\n",
    "df.drop(df.index[df['CO2_Rating'] == 2], inplace=True)\n",
    "df.drop(df.index[df['CO2_Rating'] == 7], inplace=True)"
   ]
  },
  {
   "cell_type": "code",
   "execution_count": 4,
   "id": "3837ed70",
   "metadata": {},
   "outputs": [],
   "source": [
    "df['CO2_Rating'] = df['CO2_Rating'].map({3:1,4:2,5:3,6:4})"
   ]
  },
  {
   "cell_type": "code",
   "execution_count": 5,
   "id": "d785e357",
   "metadata": {},
   "outputs": [],
   "source": [
    "df=df.dropna()"
   ]
  },
  {
   "cell_type": "code",
   "execution_count": 6,
   "id": "a71f670c",
   "metadata": {},
   "outputs": [
    {
     "data": {
      "text/plain": [
       "CO2_Rating\n",
       "3    266\n",
       "2    228\n",
       "1    189\n",
       "4    113\n",
       "Name: count, dtype: int64"
      ]
     },
     "execution_count": 6,
     "metadata": {},
     "output_type": "execute_result"
    }
   ],
   "source": [
    "df['CO2_Rating'].value_counts()"
   ]
  },
  {
   "cell_type": "code",
   "execution_count": 7,
   "id": "7a0f30c1",
   "metadata": {},
   "outputs": [
    {
     "data": {
      "text/plain": [
       "Index(['Engine_Size', 'Cylinders', 'Fuel_Type', 'Fuel_Consumption_City',\n",
       "       'Fuel_Consumption_Higway', 'Fuel_Consumption_km',\n",
       "       'Fuel_Consumption_miles', 'CO2_Emission_KM', 'CO2_Rating'],\n",
       "      dtype='object')"
      ]
     },
     "execution_count": 7,
     "metadata": {},
     "output_type": "execute_result"
    }
   ],
   "source": [
    "df.columns"
   ]
  },
  {
   "cell_type": "code",
   "execution_count": 8,
   "id": "411355e5",
   "metadata": {},
   "outputs": [],
   "source": [
    "from sklearn.preprocessing import LabelEncoder\n",
    "le = LabelEncoder()\n",
    "\n",
    "var = ['Fuel_Type']\n",
    "  \n",
    "for i in var:\n",
    "    df[i] = le.fit_transform(df[i]).astype(int)"
   ]
  },
  {
   "cell_type": "code",
   "execution_count": 9,
   "id": "713eb254",
   "metadata": {},
   "outputs": [
    {
     "data": {
      "text/html": [
       "<div>\n",
       "<style scoped>\n",
       "    .dataframe tbody tr th:only-of-type {\n",
       "        vertical-align: middle;\n",
       "    }\n",
       "\n",
       "    .dataframe tbody tr th {\n",
       "        vertical-align: top;\n",
       "    }\n",
       "\n",
       "    .dataframe thead th {\n",
       "        text-align: right;\n",
       "    }\n",
       "</style>\n",
       "<table border=\"1\" class=\"dataframe\">\n",
       "  <thead>\n",
       "    <tr style=\"text-align: right;\">\n",
       "      <th></th>\n",
       "      <th>Engine_Size</th>\n",
       "      <th>Cylinders</th>\n",
       "      <th>Fuel_Type</th>\n",
       "      <th>Fuel_Consumption_City</th>\n",
       "      <th>Fuel_Consumption_Higway</th>\n",
       "      <th>Fuel_Consumption_km</th>\n",
       "      <th>Fuel_Consumption_miles</th>\n",
       "      <th>CO2_Emission_KM</th>\n",
       "      <th>CO2_Rating</th>\n",
       "    </tr>\n",
       "  </thead>\n",
       "  <tbody>\n",
       "    <tr>\n",
       "      <th>0</th>\n",
       "      <td>2.4</td>\n",
       "      <td>4</td>\n",
       "      <td>3</td>\n",
       "      <td>9.9</td>\n",
       "      <td>7.0</td>\n",
       "      <td>8.6</td>\n",
       "      <td>33</td>\n",
       "      <td>200</td>\n",
       "      <td>4</td>\n",
       "    </tr>\n",
       "    <tr>\n",
       "      <th>1</th>\n",
       "      <td>3.5</td>\n",
       "      <td>6</td>\n",
       "      <td>3</td>\n",
       "      <td>12.6</td>\n",
       "      <td>9.4</td>\n",
       "      <td>11.2</td>\n",
       "      <td>25</td>\n",
       "      <td>263</td>\n",
       "      <td>2</td>\n",
       "    </tr>\n",
       "    <tr>\n",
       "      <th>2</th>\n",
       "      <td>2.0</td>\n",
       "      <td>4</td>\n",
       "      <td>3</td>\n",
       "      <td>11.0</td>\n",
       "      <td>8.6</td>\n",
       "      <td>9.9</td>\n",
       "      <td>29</td>\n",
       "      <td>232</td>\n",
       "      <td>3</td>\n",
       "    </tr>\n",
       "    <tr>\n",
       "      <th>3</th>\n",
       "      <td>2.0</td>\n",
       "      <td>4</td>\n",
       "      <td>3</td>\n",
       "      <td>11.3</td>\n",
       "      <td>9.1</td>\n",
       "      <td>10.3</td>\n",
       "      <td>27</td>\n",
       "      <td>242</td>\n",
       "      <td>3</td>\n",
       "    </tr>\n",
       "    <tr>\n",
       "      <th>4</th>\n",
       "      <td>2.0</td>\n",
       "      <td>4</td>\n",
       "      <td>3</td>\n",
       "      <td>11.2</td>\n",
       "      <td>8.0</td>\n",
       "      <td>9.8</td>\n",
       "      <td>29</td>\n",
       "      <td>230</td>\n",
       "      <td>3</td>\n",
       "    </tr>\n",
       "  </tbody>\n",
       "</table>\n",
       "</div>"
      ],
      "text/plain": [
       "   Engine_Size  Cylinders  Fuel_Type  Fuel_Consumption_City  \\\n",
       "0          2.4          4          3                    9.9   \n",
       "1          3.5          6          3                   12.6   \n",
       "2          2.0          4          3                   11.0   \n",
       "3          2.0          4          3                   11.3   \n",
       "4          2.0          4          3                   11.2   \n",
       "\n",
       "   Fuel_Consumption_Higway  Fuel_Consumption_km  Fuel_Consumption_miles  \\\n",
       "0                      7.0                  8.6                      33   \n",
       "1                      9.4                 11.2                      25   \n",
       "2                      8.6                  9.9                      29   \n",
       "3                      9.1                 10.3                      27   \n",
       "4                      8.0                  9.8                      29   \n",
       "\n",
       "   CO2_Emission_KM  CO2_Rating  \n",
       "0              200           4  \n",
       "1              263           2  \n",
       "2              232           3  \n",
       "3              242           3  \n",
       "4              230           3  "
      ]
     },
     "execution_count": 9,
     "metadata": {},
     "output_type": "execute_result"
    }
   ],
   "source": [
    "df.head()"
   ]
  },
  {
   "cell_type": "code",
   "execution_count": 10,
   "id": "3f36a6e4",
   "metadata": {},
   "outputs": [],
   "source": [
    "x1 = df.drop(labels='CO2_Rating', axis=1)\n",
    "y1 = df.loc[:,'CO2_Rating']"
   ]
  },
  {
   "cell_type": "code",
   "execution_count": 11,
   "id": "1f62c6c3",
   "metadata": {},
   "outputs": [
    {
     "name": "stdout",
     "output_type": "stream",
     "text": [
      "OUR DATASET COUNT         :  Counter({3: 266, 2: 228, 1: 189, 4: 113})\n",
      "OVER SAMPLING DATA COUNT  :  Counter({4: 266, 2: 266, 3: 266, 1: 266})\n"
     ]
    }
   ],
   "source": [
    "import imblearn\n",
    "from imblearn.over_sampling import RandomOverSampler\n",
    "from collections import Counter\n",
    "\n",
    "ros =RandomOverSampler(random_state=42)\n",
    "x,y=ros.fit_resample(x1,y1)\n",
    "print(\"OUR DATASET COUNT         : \", Counter(y1))\n",
    "print(\"OVER SAMPLING DATA COUNT  : \", Counter(y))"
   ]
  },
  {
   "cell_type": "code",
   "execution_count": 12,
   "id": "4bb6edac",
   "metadata": {},
   "outputs": [
    {
     "name": "stdout",
     "output_type": "stream",
     "text": [
      "NUMBER OF TRAIN DATASET    :  851\n",
      "NUMBER OF TEST DATASET      :  213\n",
      "TOTAL NUMBER OF DATASET    :  1064\n"
     ]
    }
   ],
   "source": [
    "from sklearn.model_selection import train_test_split\n",
    "x_train, x_test, y_train, y_test = train_test_split(x, y, test_size=0.20, random_state=42, stratify=y)\n",
    "print(\"NUMBER OF TRAIN DATASET    : \", len(x_train))\n",
    "print(\"NUMBER OF TEST DATASET      : \", len(x_test))\n",
    "print(\"TOTAL NUMBER OF DATASET    : \", len(x_train)+len(x_test))"
   ]
  },
  {
   "cell_type": "code",
   "execution_count": 13,
   "id": "cbb02177",
   "metadata": {},
   "outputs": [
    {
     "name": "stdout",
     "output_type": "stream",
     "text": [
      "NUMBER OF TRAIN DATASET    :  851\n",
      "NUMBER OF TEST DATASET      :  213\n",
      "TOTAL NUMBER OF DATASET    :  1064\n"
     ]
    }
   ],
   "source": [
    "print(\"NUMBER OF TRAIN DATASET    : \", len(y_train))\n",
    "print(\"NUMBER OF TEST DATASET      : \", len(y_test))\n",
    "print(\"TOTAL NUMBER OF DATASET    : \", len(y_train)+len(y_test))"
   ]
  },
  {
   "cell_type": "code",
   "execution_count": 14,
   "id": "1fa5db0a",
   "metadata": {},
   "outputs": [],
   "source": [
    "import tensorflow as tf\n",
    "from tensorflow import keras\n",
    "from tensorflow.keras import layers"
   ]
  },
  {
   "cell_type": "code",
   "execution_count": 15,
   "id": "13c940ce",
   "metadata": {},
   "outputs": [
    {
     "name": "stdout",
     "output_type": "stream",
     "text": [
      "Model: \"sequential\"\n",
      "_________________________________________________________________\n",
      " Layer (type)                Output Shape              Param #   \n",
      "=================================================================\n",
      " dense (Dense)               (None, 128)               1152      \n",
      "                                                                 \n",
      " dense_1 (Dense)             (None, 64)                8256      \n",
      "                                                                 \n",
      " dense_2 (Dense)             (None, 5)                 325       \n",
      "                                                                 \n",
      "=================================================================\n",
      "Total params: 9733 (38.02 KB)\n",
      "Trainable params: 9733 (38.02 KB)\n",
      "Non-trainable params: 0 (0.00 Byte)\n",
      "_________________________________________________________________\n"
     ]
    }
   ],
   "source": [
    "# Build the ANN model\n",
    "model = keras.Sequential([\n",
    "    keras.layers.Dense(128, activation='relu', input_shape=(x_train.shape[1],)),\n",
    "    keras.layers.Dense(64, activation='relu'),\n",
    "    keras.layers.Dense(5, activation='softmax')  # Adjust the output layer\n",
    "])\n",
    "\n",
    "model.summary() "
   ]
  },
  {
   "cell_type": "code",
   "execution_count": 16,
   "id": "4a749cc7",
   "metadata": {},
   "outputs": [],
   "source": [
    "# Compile the model\n",
    "model.compile(optimizer='adam', loss='sparse_categorical_crossentropy', metrics=['accuracy'])"
   ]
  },
  {
   "cell_type": "code",
   "execution_count": 17,
   "id": "b73a72f8",
   "metadata": {},
   "outputs": [],
   "source": [
    "# Train the model\n",
    "epochs = 100\n",
    "batch_size = 32"
   ]
  },
  {
   "cell_type": "code",
   "execution_count": 18,
   "id": "61ed9605",
   "metadata": {},
   "outputs": [
    {
     "name": "stdout",
     "output_type": "stream",
     "text": [
      "Epoch 1/100\n",
      "22/22 [==============================] - 1s 13ms/step - loss: 6.7141 - accuracy: 0.3059 - val_loss: 2.5935 - val_accuracy: 0.3801\n",
      "Epoch 2/100\n",
      "22/22 [==============================] - 0s 3ms/step - loss: 1.6447 - accuracy: 0.3971 - val_loss: 1.3482 - val_accuracy: 0.3918\n",
      "Epoch 3/100\n",
      "22/22 [==============================] - 0s 3ms/step - loss: 0.9929 - accuracy: 0.5868 - val_loss: 0.8683 - val_accuracy: 0.5906\n",
      "Epoch 4/100\n",
      "22/22 [==============================] - 0s 3ms/step - loss: 0.8440 - accuracy: 0.6838 - val_loss: 0.8171 - val_accuracy: 0.6374\n",
      "Epoch 5/100\n",
      "22/22 [==============================] - 0s 2ms/step - loss: 0.7998 - accuracy: 0.6632 - val_loss: 0.6961 - val_accuracy: 0.7544\n",
      "Epoch 6/100\n",
      "22/22 [==============================] - 0s 2ms/step - loss: 0.7425 - accuracy: 0.6882 - val_loss: 0.6726 - val_accuracy: 0.7310\n",
      "Epoch 7/100\n",
      "22/22 [==============================] - 0s 3ms/step - loss: 0.7346 - accuracy: 0.6691 - val_loss: 0.8249 - val_accuracy: 0.5556\n",
      "Epoch 8/100\n",
      "22/22 [==============================] - 0s 3ms/step - loss: 0.6876 - accuracy: 0.6706 - val_loss: 0.6961 - val_accuracy: 0.7193\n",
      "Epoch 9/100\n",
      "22/22 [==============================] - 0s 3ms/step - loss: 0.5963 - accuracy: 0.8088 - val_loss: 0.5515 - val_accuracy: 0.9181\n",
      "Epoch 10/100\n",
      "22/22 [==============================] - 0s 3ms/step - loss: 0.5475 - accuracy: 0.8265 - val_loss: 0.5329 - val_accuracy: 0.8480\n",
      "Epoch 11/100\n",
      "22/22 [==============================] - 0s 3ms/step - loss: 0.5542 - accuracy: 0.8088 - val_loss: 0.6190 - val_accuracy: 0.7193\n",
      "Epoch 12/100\n",
      "22/22 [==============================] - 0s 3ms/step - loss: 0.5907 - accuracy: 0.7574 - val_loss: 0.5171 - val_accuracy: 0.7719\n",
      "Epoch 13/100\n",
      "22/22 [==============================] - 0s 3ms/step - loss: 0.5352 - accuracy: 0.7647 - val_loss: 0.5417 - val_accuracy: 0.7544\n",
      "Epoch 14/100\n",
      "22/22 [==============================] - 0s 3ms/step - loss: 0.4671 - accuracy: 0.8500 - val_loss: 0.4162 - val_accuracy: 0.9181\n",
      "Epoch 15/100\n",
      "22/22 [==============================] - 0s 3ms/step - loss: 0.4284 - accuracy: 0.8779 - val_loss: 0.4508 - val_accuracy: 0.8596\n",
      "Epoch 16/100\n",
      "22/22 [==============================] - 0s 3ms/step - loss: 0.3999 - accuracy: 0.9147 - val_loss: 0.3899 - val_accuracy: 0.9591\n",
      "Epoch 17/100\n",
      "22/22 [==============================] - 0s 3ms/step - loss: 0.4008 - accuracy: 0.9044 - val_loss: 0.4214 - val_accuracy: 0.8947\n",
      "Epoch 18/100\n",
      "22/22 [==============================] - 0s 2ms/step - loss: 0.4339 - accuracy: 0.8515 - val_loss: 0.3692 - val_accuracy: 0.9532\n",
      "Epoch 19/100\n",
      "22/22 [==============================] - 0s 2ms/step - loss: 0.4420 - accuracy: 0.8147 - val_loss: 0.6586 - val_accuracy: 0.6901\n",
      "Epoch 20/100\n",
      "22/22 [==============================] - 0s 3ms/step - loss: 0.4154 - accuracy: 0.8338 - val_loss: 0.3901 - val_accuracy: 0.8480\n",
      "Epoch 21/100\n",
      "22/22 [==============================] - 0s 3ms/step - loss: 0.4040 - accuracy: 0.8368 - val_loss: 0.4665 - val_accuracy: 0.7836\n",
      "Epoch 22/100\n",
      "22/22 [==============================] - 0s 2ms/step - loss: 0.3580 - accuracy: 0.8603 - val_loss: 0.3258 - val_accuracy: 0.8772\n",
      "Epoch 23/100\n",
      "22/22 [==============================] - 0s 3ms/step - loss: 0.3490 - accuracy: 0.8926 - val_loss: 0.4076 - val_accuracy: 0.8304\n",
      "Epoch 24/100\n",
      "22/22 [==============================] - 0s 3ms/step - loss: 0.3495 - accuracy: 0.8706 - val_loss: 0.2932 - val_accuracy: 0.9357\n",
      "Epoch 25/100\n",
      "22/22 [==============================] - 0s 3ms/step - loss: 0.3120 - accuracy: 0.9044 - val_loss: 0.2778 - val_accuracy: 0.9591\n",
      "Epoch 26/100\n",
      "22/22 [==============================] - 0s 3ms/step - loss: 0.3010 - accuracy: 0.9235 - val_loss: 0.3278 - val_accuracy: 0.8655\n",
      "Epoch 27/100\n",
      "22/22 [==============================] - 0s 3ms/step - loss: 0.2932 - accuracy: 0.9250 - val_loss: 0.3028 - val_accuracy: 0.9240\n",
      "Epoch 28/100\n",
      "22/22 [==============================] - 0s 3ms/step - loss: 0.3136 - accuracy: 0.8721 - val_loss: 0.3093 - val_accuracy: 0.9123\n",
      "Epoch 29/100\n",
      "22/22 [==============================] - 0s 3ms/step - loss: 0.2737 - accuracy: 0.9250 - val_loss: 0.2806 - val_accuracy: 0.9357\n",
      "Epoch 30/100\n",
      "22/22 [==============================] - 0s 3ms/step - loss: 0.2947 - accuracy: 0.8926 - val_loss: 0.2760 - val_accuracy: 0.9240\n",
      "Epoch 31/100\n",
      "22/22 [==============================] - 0s 3ms/step - loss: 0.2992 - accuracy: 0.8868 - val_loss: 0.2943 - val_accuracy: 0.9064\n",
      "Epoch 32/100\n",
      "22/22 [==============================] - 0s 3ms/step - loss: 0.2774 - accuracy: 0.9029 - val_loss: 0.2975 - val_accuracy: 0.9357\n",
      "Epoch 33/100\n",
      "22/22 [==============================] - 0s 3ms/step - loss: 0.2670 - accuracy: 0.9206 - val_loss: 0.2878 - val_accuracy: 0.8713\n",
      "Epoch 34/100\n",
      "22/22 [==============================] - 0s 3ms/step - loss: 0.3712 - accuracy: 0.8426 - val_loss: 0.2669 - val_accuracy: 0.8830\n",
      "Epoch 35/100\n",
      "22/22 [==============================] - 0s 3ms/step - loss: 0.2889 - accuracy: 0.8853 - val_loss: 0.3482 - val_accuracy: 0.8480\n",
      "Epoch 36/100\n",
      "22/22 [==============================] - 0s 3ms/step - loss: 0.3632 - accuracy: 0.8279 - val_loss: 0.7285 - val_accuracy: 0.6374\n",
      "Epoch 37/100\n",
      "22/22 [==============================] - 0s 3ms/step - loss: 0.4418 - accuracy: 0.8074 - val_loss: 0.4973 - val_accuracy: 0.7661\n",
      "Epoch 38/100\n",
      "22/22 [==============================] - 0s 2ms/step - loss: 0.4159 - accuracy: 0.8147 - val_loss: 0.2862 - val_accuracy: 0.8713\n",
      "Epoch 39/100\n",
      "22/22 [==============================] - 0s 2ms/step - loss: 0.3056 - accuracy: 0.8853 - val_loss: 0.3280 - val_accuracy: 0.8830\n",
      "Epoch 40/100\n",
      "22/22 [==============================] - 0s 2ms/step - loss: 0.2788 - accuracy: 0.8897 - val_loss: 0.2604 - val_accuracy: 0.9181\n",
      "Epoch 41/100\n",
      "22/22 [==============================] - 0s 3ms/step - loss: 0.2673 - accuracy: 0.8971 - val_loss: 0.2950 - val_accuracy: 0.8538\n",
      "Epoch 42/100\n",
      "22/22 [==============================] - 0s 3ms/step - loss: 0.2755 - accuracy: 0.8838 - val_loss: 0.2002 - val_accuracy: 0.9415\n",
      "Epoch 43/100\n",
      "22/22 [==============================] - 0s 3ms/step - loss: 0.2239 - accuracy: 0.9162 - val_loss: 0.2123 - val_accuracy: 0.9415\n",
      "Epoch 44/100\n",
      "22/22 [==============================] - 0s 3ms/step - loss: 0.2252 - accuracy: 0.9368 - val_loss: 0.2064 - val_accuracy: 0.9123\n",
      "Epoch 45/100\n",
      "22/22 [==============================] - 0s 3ms/step - loss: 0.2916 - accuracy: 0.8735 - val_loss: 0.4026 - val_accuracy: 0.8129\n",
      "Epoch 46/100\n",
      "22/22 [==============================] - 0s 3ms/step - loss: 0.2732 - accuracy: 0.8824 - val_loss: 0.1998 - val_accuracy: 0.9532\n",
      "Epoch 47/100\n",
      "22/22 [==============================] - 0s 3ms/step - loss: 0.2477 - accuracy: 0.9074 - val_loss: 0.2648 - val_accuracy: 0.9064\n",
      "Epoch 48/100\n",
      "22/22 [==============================] - 0s 3ms/step - loss: 0.3016 - accuracy: 0.8706 - val_loss: 0.2977 - val_accuracy: 0.8889\n",
      "Epoch 49/100\n",
      "22/22 [==============================] - 0s 3ms/step - loss: 0.2561 - accuracy: 0.9059 - val_loss: 0.2898 - val_accuracy: 0.8480\n",
      "Epoch 50/100\n",
      "22/22 [==============================] - 0s 3ms/step - loss: 0.3036 - accuracy: 0.8721 - val_loss: 0.2376 - val_accuracy: 0.9123\n",
      "Epoch 51/100\n",
      "22/22 [==============================] - 0s 3ms/step - loss: 0.2222 - accuracy: 0.9088 - val_loss: 0.2518 - val_accuracy: 0.9240\n",
      "Epoch 52/100\n",
      "22/22 [==============================] - 0s 3ms/step - loss: 0.2115 - accuracy: 0.9221 - val_loss: 0.2233 - val_accuracy: 0.8947\n",
      "Epoch 53/100\n",
      "22/22 [==============================] - 0s 3ms/step - loss: 0.2561 - accuracy: 0.8971 - val_loss: 0.1922 - val_accuracy: 0.9298\n",
      "Epoch 54/100\n",
      "22/22 [==============================] - 0s 3ms/step - loss: 0.2200 - accuracy: 0.9176 - val_loss: 0.2055 - val_accuracy: 0.9123\n",
      "Epoch 55/100\n",
      "22/22 [==============================] - 0s 3ms/step - loss: 0.2311 - accuracy: 0.9103 - val_loss: 0.2831 - val_accuracy: 0.9006\n",
      "Epoch 56/100\n",
      "22/22 [==============================] - 0s 3ms/step - loss: 0.2076 - accuracy: 0.9118 - val_loss: 0.2809 - val_accuracy: 0.8947\n",
      "Epoch 57/100\n",
      "22/22 [==============================] - 0s 3ms/step - loss: 0.2234 - accuracy: 0.9191 - val_loss: 0.1711 - val_accuracy: 0.9532\n",
      "Epoch 58/100\n",
      "22/22 [==============================] - 0s 3ms/step - loss: 0.2247 - accuracy: 0.9059 - val_loss: 0.2282 - val_accuracy: 0.8889\n"
     ]
    },
    {
     "name": "stdout",
     "output_type": "stream",
     "text": [
      "Epoch 59/100\n",
      "22/22 [==============================] - 0s 3ms/step - loss: 0.2446 - accuracy: 0.8882 - val_loss: 0.2084 - val_accuracy: 0.9123\n",
      "Epoch 60/100\n",
      "22/22 [==============================] - 0s 3ms/step - loss: 0.2381 - accuracy: 0.8985 - val_loss: 0.2456 - val_accuracy: 0.8655\n",
      "Epoch 61/100\n",
      "22/22 [==============================] - 0s 2ms/step - loss: 0.2073 - accuracy: 0.9221 - val_loss: 0.2384 - val_accuracy: 0.9181\n",
      "Epoch 62/100\n",
      "22/22 [==============================] - 0s 2ms/step - loss: 0.1960 - accuracy: 0.9265 - val_loss: 0.2261 - val_accuracy: 0.8713\n",
      "Epoch 63/100\n",
      "22/22 [==============================] - 0s 2ms/step - loss: 0.2150 - accuracy: 0.9235 - val_loss: 0.1479 - val_accuracy: 0.9708\n",
      "Epoch 64/100\n",
      "22/22 [==============================] - 0s 2ms/step - loss: 0.1801 - accuracy: 0.9426 - val_loss: 0.1492 - val_accuracy: 0.9708\n",
      "Epoch 65/100\n",
      "22/22 [==============================] - 0s 2ms/step - loss: 0.1793 - accuracy: 0.9426 - val_loss: 0.1674 - val_accuracy: 0.9357\n",
      "Epoch 66/100\n",
      "22/22 [==============================] - 0s 2ms/step - loss: 0.2111 - accuracy: 0.9118 - val_loss: 0.2378 - val_accuracy: 0.8830\n",
      "Epoch 67/100\n",
      "22/22 [==============================] - 0s 2ms/step - loss: 0.1852 - accuracy: 0.9294 - val_loss: 0.2019 - val_accuracy: 0.9240\n",
      "Epoch 68/100\n",
      "22/22 [==============================] - 0s 2ms/step - loss: 0.1603 - accuracy: 0.9485 - val_loss: 0.1401 - val_accuracy: 0.9649\n",
      "Epoch 69/100\n",
      "22/22 [==============================] - 0s 2ms/step - loss: 0.1742 - accuracy: 0.9382 - val_loss: 0.1558 - val_accuracy: 0.9415\n",
      "Epoch 70/100\n",
      "22/22 [==============================] - 0s 2ms/step - loss: 0.1875 - accuracy: 0.9279 - val_loss: 0.1589 - val_accuracy: 0.9298\n",
      "Epoch 71/100\n",
      "22/22 [==============================] - 0s 2ms/step - loss: 0.1684 - accuracy: 0.9456 - val_loss: 0.1904 - val_accuracy: 0.9181\n",
      "Epoch 72/100\n",
      "22/22 [==============================] - 0s 2ms/step - loss: 0.1657 - accuracy: 0.9456 - val_loss: 0.1563 - val_accuracy: 0.9357\n",
      "Epoch 73/100\n",
      "22/22 [==============================] - 0s 2ms/step - loss: 0.1890 - accuracy: 0.9191 - val_loss: 0.2027 - val_accuracy: 0.9064\n",
      "Epoch 74/100\n",
      "22/22 [==============================] - 0s 2ms/step - loss: 0.2393 - accuracy: 0.9015 - val_loss: 0.2957 - val_accuracy: 0.8538\n",
      "Epoch 75/100\n",
      "22/22 [==============================] - 0s 2ms/step - loss: 0.2725 - accuracy: 0.8926 - val_loss: 0.1585 - val_accuracy: 0.9591\n",
      "Epoch 76/100\n",
      "22/22 [==============================] - 0s 2ms/step - loss: 0.2236 - accuracy: 0.9118 - val_loss: 0.1600 - val_accuracy: 0.9240\n",
      "Epoch 77/100\n",
      "22/22 [==============================] - 0s 2ms/step - loss: 0.2638 - accuracy: 0.8897 - val_loss: 0.1565 - val_accuracy: 0.9474\n",
      "Epoch 78/100\n",
      "22/22 [==============================] - 0s 2ms/step - loss: 0.1942 - accuracy: 0.9235 - val_loss: 0.1710 - val_accuracy: 0.9298\n",
      "Epoch 79/100\n",
      "22/22 [==============================] - 0s 2ms/step - loss: 0.2126 - accuracy: 0.9221 - val_loss: 0.2060 - val_accuracy: 0.9006\n",
      "Epoch 80/100\n",
      "22/22 [==============================] - 0s 2ms/step - loss: 0.2188 - accuracy: 0.9176 - val_loss: 0.2787 - val_accuracy: 0.8596\n",
      "Epoch 81/100\n",
      "22/22 [==============================] - 0s 2ms/step - loss: 0.2000 - accuracy: 0.9044 - val_loss: 0.2473 - val_accuracy: 0.8713\n",
      "Epoch 82/100\n",
      "22/22 [==============================] - 0s 2ms/step - loss: 0.2103 - accuracy: 0.9118 - val_loss: 0.1679 - val_accuracy: 0.9123\n",
      "Epoch 83/100\n",
      "22/22 [==============================] - 0s 2ms/step - loss: 0.1513 - accuracy: 0.9529 - val_loss: 0.1337 - val_accuracy: 0.9649\n",
      "Epoch 84/100\n",
      "22/22 [==============================] - 0s 2ms/step - loss: 0.1524 - accuracy: 0.9574 - val_loss: 0.1280 - val_accuracy: 0.9532\n",
      "Epoch 85/100\n",
      "22/22 [==============================] - 0s 2ms/step - loss: 0.1409 - accuracy: 0.9676 - val_loss: 0.1901 - val_accuracy: 0.9123\n",
      "Epoch 86/100\n",
      "22/22 [==============================] - 0s 2ms/step - loss: 0.1975 - accuracy: 0.9176 - val_loss: 0.2657 - val_accuracy: 0.8830\n",
      "Epoch 87/100\n",
      "22/22 [==============================] - 0s 2ms/step - loss: 0.2054 - accuracy: 0.9191 - val_loss: 0.2438 - val_accuracy: 0.9123\n",
      "Epoch 88/100\n",
      "22/22 [==============================] - 0s 2ms/step - loss: 0.2398 - accuracy: 0.9118 - val_loss: 0.1740 - val_accuracy: 0.9357\n",
      "Epoch 89/100\n",
      "22/22 [==============================] - 0s 2ms/step - loss: 0.1846 - accuracy: 0.9162 - val_loss: 0.1614 - val_accuracy: 0.9357\n",
      "Epoch 90/100\n",
      "22/22 [==============================] - 0s 2ms/step - loss: 0.1607 - accuracy: 0.9515 - val_loss: 0.1750 - val_accuracy: 0.9240\n",
      "Epoch 91/100\n",
      "22/22 [==============================] - 0s 2ms/step - loss: 0.1379 - accuracy: 0.9588 - val_loss: 0.1529 - val_accuracy: 0.9298\n",
      "Epoch 92/100\n",
      "22/22 [==============================] - 0s 2ms/step - loss: 0.1375 - accuracy: 0.9618 - val_loss: 0.1378 - val_accuracy: 0.9591\n",
      "Epoch 93/100\n",
      "22/22 [==============================] - 0s 2ms/step - loss: 0.1599 - accuracy: 0.9368 - val_loss: 0.1414 - val_accuracy: 0.9474\n",
      "Epoch 94/100\n",
      "22/22 [==============================] - 0s 2ms/step - loss: 0.2401 - accuracy: 0.9074 - val_loss: 0.1215 - val_accuracy: 0.9649\n",
      "Epoch 95/100\n",
      "22/22 [==============================] - 0s 2ms/step - loss: 0.2157 - accuracy: 0.9059 - val_loss: 0.2291 - val_accuracy: 0.9006\n",
      "Epoch 96/100\n",
      "22/22 [==============================] - 0s 2ms/step - loss: 0.2239 - accuracy: 0.9103 - val_loss: 0.1509 - val_accuracy: 0.9532\n",
      "Epoch 97/100\n",
      "22/22 [==============================] - 0s 2ms/step - loss: 0.1503 - accuracy: 0.9471 - val_loss: 0.2859 - val_accuracy: 0.8538\n",
      "Epoch 98/100\n",
      "22/22 [==============================] - 0s 2ms/step - loss: 0.1903 - accuracy: 0.9103 - val_loss: 0.1709 - val_accuracy: 0.9123\n",
      "Epoch 99/100\n",
      "22/22 [==============================] - 0s 2ms/step - loss: 0.1510 - accuracy: 0.9397 - val_loss: 0.3324 - val_accuracy: 0.8713\n",
      "Epoch 100/100\n",
      "22/22 [==============================] - 0s 3ms/step - loss: 0.2323 - accuracy: 0.8868 - val_loss: 0.3173 - val_accuracy: 0.9064\n"
     ]
    }
   ],
   "source": [
    "history = model.fit(x_train, y_train, epochs=epochs, batch_size=batch_size, validation_split=0.2, verbose=1)"
   ]
  },
  {
   "cell_type": "code",
   "execution_count": 19,
   "id": "ebcfcb9e",
   "metadata": {},
   "outputs": [
    {
     "name": "stdout",
     "output_type": "stream",
     "text": [
      "7/7 [==============================] - 0s 1ms/step\n"
     ]
    }
   ],
   "source": [
    "# Make predictions on the test set\n",
    "y_pred = model.predict(x_test)\n",
    "predicted = np.argmax(y_pred, axis=1)"
   ]
  },
  {
   "cell_type": "code",
   "execution_count": 20,
   "id": "15d9d0f0",
   "metadata": {},
   "outputs": [
    {
     "name": "stdout",
     "output_type": "stream",
     "text": [
      "THE ACCURACY SCORE OF ARTIFICIAL NEURAL NETWORK IS : 82.62910798122066\n"
     ]
    }
   ],
   "source": [
    "from sklearn.metrics import accuracy_score\n",
    "a = accuracy_score(y_test,predicted) \n",
    "print(\"THE ACCURACY SCORE OF ARTIFICIAL NEURAL NETWORK IS :\",a*100)"
   ]
  },
  {
   "cell_type": "code",
   "execution_count": 21,
   "id": "f10f1ea9",
   "metadata": {},
   "outputs": [
    {
     "name": "stdout",
     "output_type": "stream",
     "text": [
      "THE HAMMING LOSS OF ARTIFICIAL NEURAL NETWORK IS : 17.370892018779344\n"
     ]
    }
   ],
   "source": [
    "from sklearn.metrics import hamming_loss\n",
    "hl = hamming_loss(y_test,predicted)\n",
    "print(\"THE HAMMING LOSS OF ARTIFICIAL NEURAL NETWORK IS :\",hl*100)"
   ]
  },
  {
   "cell_type": "code",
   "execution_count": 22,
   "id": "369addbd",
   "metadata": {},
   "outputs": [
    {
     "name": "stdout",
     "output_type": "stream",
     "text": [
      "THE CONFUSION MATRIX SCORE OF ARTIFICIAL NEURAL NETWORK:\n",
      "\n",
      "\n",
      " [[53  0  0  0]\n",
      " [21 32  0  0]\n",
      " [ 0 10 44  0]\n",
      " [ 0  0  6 47]]\n"
     ]
    }
   ],
   "source": [
    "from sklearn.metrics import confusion_matrix\n",
    "cm = confusion_matrix(y_test,predicted)\n",
    "print('THE CONFUSION MATRIX SCORE OF ARTIFICIAL NEURAL NETWORK:\\n\\n\\n',cm)"
   ]
  },
  {
   "cell_type": "code",
   "execution_count": 23,
   "id": "fcca792c",
   "metadata": {},
   "outputs": [
    {
     "name": "stdout",
     "output_type": "stream",
     "text": [
      "THE CLASSIFICATION REPORT OF ARTIFICIAL NEURAL NETWORK:\n",
      "\n",
      "               precision    recall  f1-score   support\n",
      "\n",
      "           1       0.72      1.00      0.83        53\n",
      "           2       0.76      0.60      0.67        53\n",
      "           3       0.88      0.81      0.85        54\n",
      "           4       1.00      0.89      0.94        53\n",
      "\n",
      "    accuracy                           0.83       213\n",
      "   macro avg       0.84      0.83      0.82       213\n",
      "weighted avg       0.84      0.83      0.82       213\n",
      "\n"
     ]
    }
   ],
   "source": [
    "from sklearn.metrics import classification_report\n",
    "C = classification_report(y_test,predicted)\n",
    "print('THE CLASSIFICATION REPORT OF ARTIFICIAL NEURAL NETWORK:\\n\\n',C)"
   ]
  },
  {
   "cell_type": "code",
   "execution_count": 24,
   "id": "140e5feb",
   "metadata": {
    "scrolled": true
   },
   "outputs": [
    {
     "name": "stdout",
     "output_type": "stream",
     "text": [
      "THE CONFUSION MATRIX SCORE OF ARTIFICIAL NEURAL NETWORK:\n",
      "\n",
      "\n",
      "[[53  0  0  0]\n",
      " [21 32  0  0]\n",
      " [ 0 10 44  0]\n",
      " [ 0  0  6 47]]\n"
     ]
    },
    {
     "data": {
      "image/png": "[encoded data removed]",
      "text/plain": [
       "<Figure size 640x480 with 2 Axes>"
      ]
     },
     "metadata": {},
     "output_type": "display_data"
    }
   ],
   "source": [
    "def plot_confusion_matrix(cm, title='THE CONFUSION MATRIX SCORE OF ARTIFICIAL NEURAL NETWORK\\n\\n', cmap=plt.cm.Blues):\n",
    "    target_names=['']\n",
    "    plt.imshow(cm, interpolation='nearest', cmap=cmap)\n",
    "    plt.title(title)\n",
    "    plt.colorbar()\n",
    "    tick_marks = np.arange(len(target_names))\n",
    "    plt.xticks(tick_marks, target_names, rotation=45)\n",
    "    plt.yticks(tick_marks, target_names)\n",
    "    plt.tight_layout()\n",
    "    plt.ylabel('True label')\n",
    "    plt.xlabel('Predicted label')\n",
    "\n",
    "cm=confusion_matrix(y_test, predicted)\n",
    "print('THE CONFUSION MATRIX SCORE OF ARTIFICIAL NEURAL NETWORK:\\n\\n')\n",
    "print(cm)\n",
    "\n",
    "sns.heatmap(cm/np.sum(cm), annot=True, cmap = 'Blues', annot_kws={\"size\": 16},fmt='.2%')\n",
    "plt.show()"
   ]
  },
  {
   "cell_type": "code",
   "execution_count": 25,
   "id": "ee5774eb",
   "metadata": {},
   "outputs": [
    {
     "data": {
      "image/png": "[encoded data removed]",
      "text/plain": [
       "<Figure size 500x500 with 1 Axes>"
      ]
     },
     "metadata": {},
     "output_type": "display_data"
    }
   ],
   "source": [
    "def graph():\n",
    "    import matplotlib.pyplot as plt\n",
    "    data=[a]\n",
    "    alg=\"ARTIFICIAL NEURAL NETWORKE\"\n",
    "    plt.figure(figsize=(5,5))\n",
    "    b=plt.bar(alg,data,color=(\"coral\"))\n",
    "    plt.title(\"THE ACCURACY SCORE OF ARTIFICIAL NEURAL NETWORK IS\\n\\n\\n\")\n",
    "    plt.legend(b,data,fontsize=9)\n",
    "graph()"
   ]
  },
  {
   "cell_type": "code",
   "execution_count": 26,
   "id": "921ef995",
   "metadata": {},
   "outputs": [],
   "source": [
    "model.save(\"MODEL.h5\")"
   ]
  },
  {
   "cell_type": "code",
   "execution_count": null,
   "id": "c44eb3ed",
   "metadata": {},
   "outputs": [],
   "source": []
  },
  {
   "cell_type": "code",
   "execution_count": null,
   "id": "2dec0545",
   "metadata": {},
   "outputs": [],
   "source": []
  }
 ],
 "metadata": {
  "kernelspec": {
   "display_name": "Python 3 (ipykernel)",
   "language": "python",
   "name": "python3"
  },
  "language_info": {
   "codemirror_mode": {
    "name": "ipython",
    "version": 3
   },
   "file_extension": ".py",
   "mimetype": "text/x-python",
   "name": "python",
   "nbconvert_exporter": "python",
   "pygments_lexer": "ipython3",
   "version": "3.11.7"
  }
 },
 "nbformat": 4,
 "nbformat_minor": 5
}
